{
 "cells": [
  {
   "cell_type": "code",
   "execution_count": 7,
   "metadata": {},
   "outputs": [],
   "source": [
    "def list_Op(Mylist, Mylist2):\n",
    "    print(Mylist)\n",
    "    print(Mylist[0])\n",
    "    print(Mylist[-1])\n",
    "    Mylist.append(3)\n",
    "    Mylist[3]=60\n",
    "    print(Mylist)\n",
    "    print(Mylist[1:5])\n",
    "    Mylist.append(Mylist2)\n",
    "    print(Mylist)\n",
    "    Mylist.extend(Mylist2)\n",
    "    print(Mylist)\n",
    "    Mylist.pop(-1)\n",
    "    print(Mylist)\n",
    "    print(len(Mylist))"
   ]
  },
  {
   "cell_type": "code",
   "execution_count": 9,
   "metadata": {},
   "outputs": [
    {
     "name": "stdout",
     "output_type": "stream",
     "text": [
      "[5, 1, 2, 3, 4, 5, 3, 6, 7, 8]\n",
      "5\n",
      "8\n",
      "[5, 1, 2, 60, 4, 5, 3, 6, 7, 8, 3]\n",
      "[1, 2, 60, 4]\n",
      "[5, 1, 2, 60, 4, 5, 3, 6, 7, 8, 3, [1, 2, 3, 4]]\n",
      "[5, 1, 2, 60, 4, 5, 3, 6, 7, 8, 3, [1, 2, 3, 4], 1, 2, 3, 4]\n",
      "[5, 1, 2, 60, 4, 5, 3, 6, 7, 8, 3, [1, 2, 3, 4], 1, 2, 3]\n",
      "15\n"
     ]
    }
   ],
   "source": [
    "list_Op([5,\n",
    "1,\n",
    "2,\n",
    "3,\n",
    "4,\n",
    "5,\n",
    "3,\n",
    "6,\n",
    "7,\n",
    "8],[1,2,3,4])"
   ]
  },
  {
   "cell_type": "code",
   "execution_count": 10,
   "metadata": {},
   "outputs": [],
   "source": [
    "def find(num1, num2, num3):\n",
    "    print(num1<num2 and num2>=num3)\n",
    "    print(num1>num2 and num)\n",
    "    "
   ]
  },
  {
   "cell_type": "code",
   "execution_count": 11,
   "metadata": {},
   "outputs": [
    {
     "name": "stdout",
     "output_type": "stream",
     "text": [
      "True\n"
     ]
    }
   ],
   "source": [
    "find(2,3,4)"
   ]
  },
  {
   "cell_type": "code",
   "execution_count": 28,
   "metadata": {},
   "outputs": [],
   "source": [
    "def triangle(n1, n2, n3):\n",
    "    import math\n",
    "    Area=(n1*n2)/2\n",
    "    pi=(math.pi)\n",
    "    print(round(Area,n3),round(pi,n3))"
   ]
  },
  {
   "cell_type": "code",
   "execution_count": 29,
   "metadata": {},
   "outputs": [
    {
     "name": "stdout",
     "output_type": "stream",
     "text": [
      "22.5 3.1416\n"
     ]
    }
   ],
   "source": [
    "triangle(9,5,4)"
   ]
  },
  {
   "cell_type": "code",
   "execution_count": 32,
   "metadata": {},
   "outputs": [],
   "source": [
    "def calc(c):\n",
    "    import math\n",
    "    Radius=c/(2*math.pi)\n",
    "    Area=math.pi*(Radius**2)\n",
    "    return(round(Area,2),round(Radius,2))"
   ]
  },
  {
   "cell_type": "code",
   "execution_count": 33,
   "metadata": {},
   "outputs": [
    {
     "data": {
      "text/plain": [
       "(1.99, 0.8)"
      ]
     },
     "execution_count": 33,
     "metadata": {},
     "output_type": "execute_result"
    }
   ],
   "source": [
    "calc(5)"
   ]
  },
  {
   "cell_type": "code",
   "execution_count": 36,
   "metadata": {},
   "outputs": [],
   "source": [
    "def Integer_Math(Side, Radius):\n",
    "    print('Area of Square',Side**2)\n",
    "    print('Area of Square',Radius**2)"
   ]
  },
  {
   "cell_type": "code",
   "execution_count": 51,
   "metadata": {},
   "outputs": [],
   "source": [
    "def generateList(startvalue, endvalue):\n",
    "    for i in range(startvalue,endvalue):\n",
    "        print(i)"
   ]
  },
  {
   "cell_type": "code",
   "execution_count": 55,
   "metadata": {},
   "outputs": [],
   "source": [
    "def generateList(startvalue, endvalue):\n",
    "    object=list(range(startvalue,endvalue))\n",
    "    print(object)"
   ]
  },
  {
   "cell_type": "code",
   "execution_count": 57,
   "metadata": {},
   "outputs": [
    {
     "name": "stdout",
     "output_type": "stream",
     "text": [
      "[2, 3, 4, 5]\n"
     ]
    }
   ],
   "source": [
    "generateList(2,6)"
   ]
  },
  {
   "cell_type": "code",
   "execution_count": 70,
   "metadata": {},
   "outputs": [],
   "source": [
    "def generateList(startvalue, endvalue):\n",
    "    object=list(range(startvalue,endvalue))\n",
    "    print(object)"
   ]
  },
  {
   "cell_type": "code",
   "execution_count": 71,
   "metadata": {},
   "outputs": [
    {
     "name": "stdout",
     "output_type": "stream",
     "text": [
      "[10, 11, 12, 13, 14, 15]\n"
     ]
    }
   ],
   "source": [
    "generateList(10,16)"
   ]
  },
  {
   "cell_type": "code",
   "execution_count": 77,
   "metadata": {},
   "outputs": [],
   "source": [
    "def stringoperation(fn, ln, para, number):\n",
    "    import pandas as pd\n",
    "    print(fn+number*'\\n'+ln)\n",
    "    print(fn+'\\t'+ln)\n",
    "    print(number*fn)\n",
    "    print('The sentence is',para)"
   ]
  },
  {
   "cell_type": "code",
   "execution_count": 78,
   "metadata": {},
   "outputs": [
    {
     "name": "stdout",
     "output_type": "stream",
     "text": [
      "gunjan\n",
      "\n",
      "\n",
      "\n",
      "\n",
      "\n",
      "\n",
      "\n",
      "\n",
      "hense\n",
      "gunjan\thense\n",
      "gunjangunjangunjangunjangunjangunjangunjangunjangunjan\n",
      "The sentence is isgood\n"
     ]
    }
   ],
   "source": [
    "stringoperation('gunjan','hense','isgood',9)"
   ]
  },
  {
   "cell_type": "code",
   "execution_count": null,
   "metadata": {},
   "outputs": [],
   "source": [
    "def sumOfNFibonacciNumbers(n):\n",
    "    \n",
    "    for i in list(range(1:n)):\n",
    "        a[i+2]=a[i-1]+a[i]\n",
    "    "
   ]
  },
  {
   "cell_type": "code",
   "execution_count": 33,
   "metadata": {},
   "outputs": [],
   "source": [
    "def Greet(Name):\n",
    "    print('Welcome',Name +'.' +'\\nIt is our pleasure inviting you. \\nHave a wonderful day.')\n",
    "\n",
    "\n",
    "    "
   ]
  },
  {
   "cell_type": "code",
   "execution_count": 34,
   "metadata": {},
   "outputs": [
    {
     "name": "stdout",
     "output_type": "stream",
     "text": [
      "Welcome Gunjan.\n",
      "It is our pleasure inviting you. \n",
      "Have a wonderful day.\n"
     ]
    }
   ],
   "source": [
    "Greet('Gunjan')"
   ]
  },
  {
   "cell_type": "code",
   "execution_count": 16,
   "metadata": {},
   "outputs": [],
   "source": [
    "def Assign(i, f, s, b):\n",
    "    w=int(i)\n",
    "    x=float(f)\n",
    "    y=str(s)\n",
    "    z=bool(b.strip(\"'\"))\n",
    "    print(w,x,y,z,dir(),sep='\\n')"
   ]
  },
  {
   "cell_type": "code",
   "execution_count": 17,
   "metadata": {},
   "outputs": [
    {
     "name": "stdout",
     "output_type": "stream",
     "text": [
      "10\n",
      "3.14\n",
      "One\n",
      "True\n",
      "['b', 'f', 'i', 's', 'w', 'x', 'y', 'z']\n"
     ]
    }
   ],
   "source": [
    "Assign(10,3.14,'One','False')"
   ]
  },
  {
   "cell_type": "code",
   "execution_count": 52,
   "metadata": {},
   "outputs": [],
   "source": [
    "def Escape(s1, s2, s3):\n",
    "    print(s1,s2,s3,sep='\\n')\n",
    "    print(s1,s2,s3,sep='\\t')\n",
    "    print('s')"
   ]
  },
  {
   "cell_type": "code",
   "execution_count": 51,
   "metadata": {},
   "outputs": [
    {
     "name": "stdout",
     "output_type": "stream",
     "text": [
      "a\n",
      "b\n",
      "c\n"
     ]
    }
   ],
   "source": [
    "Escape('a','b','c')"
   ]
  },
  {
   "cell_type": "code",
   "execution_count": null,
   "metadata": {},
   "outputs": [],
   "source": [
    "f=first.strip().capitalize()\n",
    "    s=second.strip().capitalize()\n",
    "    p=parent.strip().capitalize()\n",
    "    c=city.strip().capitalize()\n",
    "    print(f,s,p,c,sep=\" \")\n",
    "    print(phone.isdecimal())\n",
    "    print(phone.startswith('9'))\n",
    "    for i in [first,second,parent,city]\n",
    "    print(i.count(strfind)\n",
    "    "
   ]
  },
  {
   "cell_type": "code",
   "execution_count": 53,
   "metadata": {},
   "outputs": [],
   "source": [
    "def resume(first, second, parent, city, phone, start, strfind, string1):\n",
    "    f=first.strip().capitalize()\n",
    "    s=second.strip().capitalize()\n",
    "    p=parent.strip().capitalize()\n",
    "    c=city.strip()\n",
    "    print(f,s,p,c,sep=\" \")\n",
    "    print(phone.isdecimal())\n",
    "    print(phone.startswith(start))\n",
    "    c=0\n",
    "    for i in [first,second,parent,city]:\n",
    "        a=i.count(strfind)\n",
    "        c+=a\n",
    "    print(c)    \n",
    "    print(string1.split())\n",
    "    print(city.find(strfind))\n"
   ]
  },
  {
   "cell_type": "code",
   "execution_count": null,
   "metadata": {},
   "outputs": [],
   "source": [
    "def tuplefunction(list1, list2, string1, n):"
   ]
  },
  {
   "cell_type": "code",
   "execution_count": 152,
   "metadata": {},
   "outputs": [],
   "source": [
    "def calculateGrade(students_marks):\n",
    "    import numpy as np\n",
    "    students_marks=np.array(students_marks)\n",
    "    AVG=[]\n",
    "    for i in range(0,students_marks.shape[0]):\n",
    "        \n",
    "        count=students_marks.shape[1]\n",
    "        sums=0\n",
    "        for j in students_marks[i]:\n",
    "            sums+=j\n",
    "            avgs=int(sums/count)\n",
    "        AVG.append(avgs)\n",
    "    grade=''\n",
    "    gradelist=[]\n",
    "    for avgmarks in AVG:\n",
    "        if avgmarks>=90:\n",
    "            grade='A+'\n",
    "        if avgmarks in range(80,90):\n",
    "            grade=\"A\"\n",
    "        if avgmarks in range(70,80):\n",
    "            grade=\"B\"\n",
    "        if avgmarks in range(60,70):\n",
    "            grade=\"C\"\n",
    "        if avgmarks in range(50,60):\n",
    "            grade=\"D\"\n",
    "        if avgmarks<50:\n",
    "            grade=\"F\"\n",
    "        gradelist.append(grade)\n",
    "    return gradelist\n",
    "        \n",
    "           "
   ]
  },
  {
   "cell_type": "code",
   "execution_count": 167,
   "metadata": {},
   "outputs": [],
   "source": [
    "def calculateNTetrahedralNumber(startvalue, endvalue):\n",
    "    Tlist=[]\n",
    "    for i in range(startvalue,endvalue+1):\n",
    "        T= (i*(i+1)*(i+2))/6  \n",
    "        Tlist.append(int(T))\n",
    "    return Tlist"
   ]
  },
  {
   "cell_type": "code",
   "execution_count": 168,
   "metadata": {},
   "outputs": [
    {
     "data": {
      "text/plain": [
       "[1, 4, 10, 20, 35, 56, 84]"
      ]
     },
     "execution_count": 168,
     "metadata": {},
     "output_type": "execute_result"
    }
   ],
   "source": [
    "calculateNTetrahedralNumber(1,7)"
   ]
  },
  {
   "cell_type": "code",
   "execution_count": 2,
   "metadata": {},
   "outputs": [],
   "source": [
    "def sumOfNFibonacciNumbers(n):\n",
    "    \n",
    "    n1, n2 = 0, 1\n",
    "    count=0\n",
    "    sums=0\n",
    "    while count < n:\n",
    "       print(n1)\n",
    "       sums+=n1\n",
    "       nth = n1 + n2\n",
    "       # update values\n",
    "       n1 = n2\n",
    "       n2 = nth\n",
    "       count += 1\n",
    "       \n",
    "    return sums\n",
    "    return count"
   ]
  },
  {
   "cell_type": "code",
   "execution_count": 3,
   "metadata": {},
   "outputs": [
    {
     "name": "stdout",
     "output_type": "stream",
     "text": [
      "0\n",
      "1\n",
      "1\n",
      "2\n",
      "3\n",
      "5\n",
      "8\n",
      "13\n",
      "21\n",
      "34\n"
     ]
    },
    {
     "data": {
      "text/plain": [
       "88"
      ]
     },
     "execution_count": 3,
     "metadata": {},
     "output_type": "execute_result"
    }
   ],
   "source": [
    "sumOfNFibonacciNumbers(10)"
   ]
  },
  {
   "cell_type": "code",
   "execution_count": null,
   "metadata": {},
   "outputs": [],
   "source": [
    "0 "
   ]
  },
  {
   "cell_type": "code",
   "execution_count": 6,
   "metadata": {},
   "outputs": [],
   "source": [
    "def generateList(startvalue, endvalue):\n",
    "    # Write your code here\n",
    "    for i in range(startvalue,endvalue):\n",
    "        print (i)"
   ]
  },
  {
   "cell_type": "code",
   "execution_count": 105,
   "metadata": {},
   "outputs": [
    {
     "name": "stdout",
     "output_type": "stream",
     "text": [
      "[10, 11, 12]\n",
      "[16, 15, 14, 13, 12]\n",
      "[10, 14]\n",
      "[16, 15, 14, 13, 12, 11, 10]\n",
      "range(16, 9, -2)\n",
      "[16, 14, 12, 10]\n"
     ]
    }
   ],
   "source": [
    "generateList(10,16)"
   ]
  },
  {
   "cell_type": "code",
   "execution_count": 90,
   "metadata": {},
   "outputs": [],
   "source": [
    "def generateList(startvalue, endvalue):\n",
    "    three=[]\n",
    "    lastfive=[]\n",
    "    everyfourth=[]\n",
    "    collect=[]\n",
    "    two=[]\n",
    "    rangex= range(startvalue,endvalue+1)\n",
    "    for i in rangex[0:3]:\n",
    "        three.append(i)\n",
    "    print(three)\n",
    "    \n",
    "    for i in rangex[:-6:-1]:\n",
    "        lastfive.append(i)\n",
    "    print(lastfive)  \n",
    "    \n",
    "    for i in range(startvalue,endvalue+1,4):\n",
    "        everyfourth.append(i)\n",
    "    print(everyfourth) \n",
    "    \n",
    "    for i in rangex:\n",
    "        collect.append(i)\n",
    "        #print(i)    \n",
    "    collect.sort(reverse=True)\n",
    "    s=collect[0]\n",
    "    e=collect[-1]\n",
    "    rangetwo=range(s,e-1,-2)\n",
    "    for i in rangetwo:\n",
    "        two.append(i)\n",
    "        \n",
    "    print(collect)\n",
    "    print(rangetwo)\n",
    "    print(two)\n",
    "   \n",
    "    \n",
    "    "
   ]
  },
  {
   "cell_type": "code",
   "execution_count": 92,
   "metadata": {},
   "outputs": [
    {
     "name": "stdout",
     "output_type": "stream",
     "text": [
      "[56, 57, 58]\n",
      "[69, 68, 67, 66, 65]\n",
      "[56, 60, 64, 68]\n",
      "[69, 68, 67, 66, 65, 64, 63, 62, 61, 60, 59, 58, 57, 56]\n",
      "range(69, 55, -2)\n",
      "[69, 67, 65, 63, 61, 59, 57]\n"
     ]
    }
   ],
   "source": [
    "generateList(56,69)"
   ]
  },
  {
   "cell_type": "code",
   "execution_count": 15,
   "metadata": {},
   "outputs": [],
   "source": [
    "def setOperation(seta, setb):\n",
    "    a=set()\n",
    "    b=set()\n",
    "    for i in seta:\n",
    "        a.add(i)\n",
    "    for i in setb:\n",
    "        b.add(i)\n",
    "    u=a|b\n",
    "    inter=a&b\n",
    "    diff=a-b\n",
    "    \n",
    "    print(u,inter,diff)\n",
    "        \n",
    "    \n",
    "        \n",
    "        \n",
    "    #return(seta|setb)\n",
    "    #return(seta&setb)\n",
    "    #return(seta-setb)"
   ]
  },
  {
   "cell_type": "code",
   "execution_count": null,
   "metadata": {},
   "outputs": [],
   "source": []
  }
 ],
 "metadata": {
  "kernelspec": {
   "display_name": "Python 3",
   "language": "python",
   "name": "python3"
  },
  "language_info": {
   "codemirror_mode": {
    "name": "ipython",
    "version": 3
   },
   "file_extension": ".py",
   "mimetype": "text/x-python",
   "name": "python",
   "nbconvert_exporter": "python",
   "pygments_lexer": "ipython3",
   "version": "3.6.8"
  },
  "toc": {
   "base_numbering": 1,
   "nav_menu": {},
   "number_sections": true,
   "sideBar": true,
   "skip_h1_title": false,
   "title_cell": "Table of Contents",
   "title_sidebar": "Contents",
   "toc_cell": false,
   "toc_position": {},
   "toc_section_display": true,
   "toc_window_display": false
  }
 },
 "nbformat": 4,
 "nbformat_minor": 2
}
